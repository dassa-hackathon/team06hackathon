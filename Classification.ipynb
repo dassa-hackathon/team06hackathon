{
 "cells": [
  {
   "cell_type": "code",
   "execution_count": 1,
   "metadata": {
    "_cell_guid": "b1076dfc-b9ad-4769-8c92-a6c4dae69d19",
    "_uuid": "8f2839f25d086af736a60e9eeb907d3b93b6e0e5",
    "execution": {
     "iopub.execute_input": "2023-11-04T06:42:02.000160Z",
     "iopub.status.busy": "2023-11-04T06:42:01.999297Z",
     "iopub.status.idle": "2023-11-04T06:42:02.121931Z",
     "shell.execute_reply": "2023-11-04T06:42:02.120668Z",
     "shell.execute_reply.started": "2023-11-04T06:42:02.000122Z"
    }
   },
   "outputs": [
    {
     "name": "stdout",
     "output_type": "stream",
     "text": [
      "<class 'pandas.core.frame.DataFrame'>\n",
      "RangeIndex: 16504 entries, 0 to 16503\n",
      "Data columns (total 22 columns):\n",
      " #   Column       Non-Null Count  Dtype \n",
      "---  ------       --------------  ----- \n",
      " 0   Period Code  16475 non-null  object\n",
      " 1   Cycle ID     16468 non-null  object\n",
      " 2   B_2          16464 non-null  object\n",
      " 3   B_3          16460 non-null  object\n",
      " 4   B_4          16462 non-null  object\n",
      " 5   B_5          16469 non-null  object\n",
      " 6   B_9          16475 non-null  object\n",
      " 7   B_10         16460 non-null  object\n",
      " 8   B_14         16460 non-null  object\n",
      " 9   B_15         16458 non-null  object\n",
      " 10  B_16         16467 non-null  object\n",
      " 11  B_17         16463 non-null  object\n",
      " 12  B_18         16469 non-null  object\n",
      " 13  B_19         16467 non-null  object\n",
      " 14  B_20         16464 non-null  object\n",
      " 15  B_21         16475 non-null  object\n",
      " 16  B_22         16477 non-null  object\n",
      " 17  B_23         16473 non-null  object\n",
      " 18  B_24         16463 non-null  object\n",
      " 19  B_25         16467 non-null  object\n",
      " 20  Good/Bad     16465 non-null  object\n",
      " 21  timestamp    16504 non-null  object\n",
      "dtypes: object(22)\n",
      "memory usage: 2.8+ MB\n"
     ]
    }
   ],
   "source": [
    "# This Python 3 environment comes with many helpful analytics libraries installed\n",
    "# It is defined by the kaggle/python Docker image: https://github.com/kaggle/docker-python\n",
    "# For example, here's several helpful packages to load\n",
    "\n",
    "import numpy as np # linear algebra\n",
    "import pandas as pd # data processing, CSV file I/O (e.g. pd.read_csv)\n",
    "\n",
    "# Input data files are available in the read-only \"../input/\" directory\n",
    "# For example, running this (by clicking run or pressing Shift+Enter) will list all files under the input directory\n",
    "\n",
    "df = pd.read_csv('train_data.csv')\n",
    "test_df = pd.read_csv('test_data.csv')\n",
    "df.info()"
   ]
  },
  {
   "cell_type": "code",
   "execution_count": 2,
   "metadata": {
    "execution": {
     "iopub.execute_input": "2023-11-04T06:42:02.124901Z",
     "iopub.status.busy": "2023-11-04T06:42:02.124482Z",
     "iopub.status.idle": "2023-11-04T06:42:02.158731Z",
     "shell.execute_reply": "2023-11-04T06:42:02.157645Z",
     "shell.execute_reply.started": "2023-11-04T06:42:02.124861Z"
    }
   },
   "outputs": [],
   "source": [
    "to_remove_lst = ['Bad', 'I/O', 'Missing', 'no connection', 'No Data', 'no response',\n",
    "       'start', 'stop']\n",
    "df = df[df['Period Code'].isin(to_remove_lst) == False]\n",
    "df = df[df['Cycle ID'].isin(to_remove_lst)==False]\n",
    "df = df[df['Good/Bad'].isin(to_remove_lst)==False]\n",
    "df = df[df['timestamp'].isin(to_remove_lst)==False]\n",
    "df = df.dropna(subset=['Period Code', 'Cycle ID', 'Good/Bad'])"
   ]
  },
  {
   "cell_type": "code",
   "execution_count": 3,
   "metadata": {
    "execution": {
     "iopub.execute_input": "2023-11-04T06:42:02.160867Z",
     "iopub.status.busy": "2023-11-04T06:42:02.160178Z",
     "iopub.status.idle": "2023-11-04T06:42:02.270867Z",
     "shell.execute_reply": "2023-11-04T06:42:02.269470Z",
     "shell.execute_reply.started": "2023-11-04T06:42:02.160825Z"
    }
   },
   "outputs": [],
   "source": [
    "sensor_columns = ['B_2', 'B_3', 'B_4', 'B_5', 'B_9', 'B_10',\n",
    "                  'B_14', 'B_15', 'B_16', 'B_17', 'B_18', \n",
    "                  'B_19', 'B_20', 'B_21', 'B_22','B_23', 'B_24', 'B_25']\n",
    "for each_col in sensor_columns:\n",
    "    df.loc[df[each_col].isin(to_remove_lst), each_col] = np.nan\n",
    "    df[each_col] = df[each_col].astype(np.float64)"
   ]
  },
  {
   "cell_type": "code",
   "execution_count": 4,
   "metadata": {
    "execution": {
     "iopub.execute_input": "2023-11-04T06:42:02.273274Z",
     "iopub.status.busy": "2023-11-04T06:42:02.272752Z",
     "iopub.status.idle": "2023-11-04T06:42:02.332703Z",
     "shell.execute_reply": "2023-11-04T06:42:02.331341Z",
     "shell.execute_reply.started": "2023-11-04T06:42:02.273223Z"
    }
   },
   "outputs": [
    {
     "data": {
      "text/html": [
       "<div>\n",
       "<style scoped>\n",
       "    .dataframe tbody tr th:only-of-type {\n",
       "        vertical-align: middle;\n",
       "    }\n",
       "\n",
       "    .dataframe tbody tr th {\n",
       "        vertical-align: top;\n",
       "    }\n",
       "\n",
       "    .dataframe thead th {\n",
       "        text-align: right;\n",
       "    }\n",
       "</style>\n",
       "<table border=\"1\" class=\"dataframe\">\n",
       "  <thead>\n",
       "    <tr style=\"text-align: right;\">\n",
       "      <th></th>\n",
       "      <th>B_2</th>\n",
       "      <th>B_3</th>\n",
       "      <th>B_4</th>\n",
       "      <th>B_5</th>\n",
       "      <th>B_9</th>\n",
       "      <th>B_10</th>\n",
       "      <th>B_14</th>\n",
       "      <th>B_15</th>\n",
       "      <th>B_16</th>\n",
       "      <th>B_17</th>\n",
       "      <th>B_18</th>\n",
       "      <th>B_19</th>\n",
       "      <th>B_20</th>\n",
       "      <th>B_21</th>\n",
       "      <th>B_22</th>\n",
       "      <th>B_23</th>\n",
       "      <th>B_24</th>\n",
       "      <th>B_25</th>\n",
       "    </tr>\n",
       "  </thead>\n",
       "  <tbody>\n",
       "    <tr>\n",
       "      <th>B_2</th>\n",
       "      <td>1.000000</td>\n",
       "      <td>0.011160</td>\n",
       "      <td>NaN</td>\n",
       "      <td>NaN</td>\n",
       "      <td>NaN</td>\n",
       "      <td>-0.000980</td>\n",
       "      <td>NaN</td>\n",
       "      <td>0.013630</td>\n",
       "      <td>-0.001952</td>\n",
       "      <td>0.000808</td>\n",
       "      <td>0.000812</td>\n",
       "      <td>0.003055</td>\n",
       "      <td>NaN</td>\n",
       "      <td>0.007820</td>\n",
       "      <td>NaN</td>\n",
       "      <td>NaN</td>\n",
       "      <td>-0.004435</td>\n",
       "      <td>-0.016141</td>\n",
       "    </tr>\n",
       "    <tr>\n",
       "      <th>B_3</th>\n",
       "      <td>0.011160</td>\n",
       "      <td>1.000000</td>\n",
       "      <td>NaN</td>\n",
       "      <td>NaN</td>\n",
       "      <td>NaN</td>\n",
       "      <td>0.019516</td>\n",
       "      <td>NaN</td>\n",
       "      <td>0.012736</td>\n",
       "      <td>-0.011543</td>\n",
       "      <td>0.020142</td>\n",
       "      <td>-0.017014</td>\n",
       "      <td>0.008782</td>\n",
       "      <td>NaN</td>\n",
       "      <td>0.014026</td>\n",
       "      <td>NaN</td>\n",
       "      <td>NaN</td>\n",
       "      <td>-0.007804</td>\n",
       "      <td>-0.011612</td>\n",
       "    </tr>\n",
       "    <tr>\n",
       "      <th>B_4</th>\n",
       "      <td>NaN</td>\n",
       "      <td>NaN</td>\n",
       "      <td>NaN</td>\n",
       "      <td>NaN</td>\n",
       "      <td>NaN</td>\n",
       "      <td>NaN</td>\n",
       "      <td>NaN</td>\n",
       "      <td>NaN</td>\n",
       "      <td>NaN</td>\n",
       "      <td>NaN</td>\n",
       "      <td>NaN</td>\n",
       "      <td>NaN</td>\n",
       "      <td>NaN</td>\n",
       "      <td>NaN</td>\n",
       "      <td>NaN</td>\n",
       "      <td>NaN</td>\n",
       "      <td>NaN</td>\n",
       "      <td>NaN</td>\n",
       "    </tr>\n",
       "    <tr>\n",
       "      <th>B_5</th>\n",
       "      <td>NaN</td>\n",
       "      <td>NaN</td>\n",
       "      <td>NaN</td>\n",
       "      <td>NaN</td>\n",
       "      <td>NaN</td>\n",
       "      <td>NaN</td>\n",
       "      <td>NaN</td>\n",
       "      <td>NaN</td>\n",
       "      <td>NaN</td>\n",
       "      <td>NaN</td>\n",
       "      <td>NaN</td>\n",
       "      <td>NaN</td>\n",
       "      <td>NaN</td>\n",
       "      <td>NaN</td>\n",
       "      <td>NaN</td>\n",
       "      <td>NaN</td>\n",
       "      <td>NaN</td>\n",
       "      <td>NaN</td>\n",
       "    </tr>\n",
       "    <tr>\n",
       "      <th>B_9</th>\n",
       "      <td>NaN</td>\n",
       "      <td>NaN</td>\n",
       "      <td>NaN</td>\n",
       "      <td>NaN</td>\n",
       "      <td>NaN</td>\n",
       "      <td>NaN</td>\n",
       "      <td>NaN</td>\n",
       "      <td>NaN</td>\n",
       "      <td>NaN</td>\n",
       "      <td>NaN</td>\n",
       "      <td>NaN</td>\n",
       "      <td>NaN</td>\n",
       "      <td>NaN</td>\n",
       "      <td>NaN</td>\n",
       "      <td>NaN</td>\n",
       "      <td>NaN</td>\n",
       "      <td>NaN</td>\n",
       "      <td>NaN</td>\n",
       "    </tr>\n",
       "    <tr>\n",
       "      <th>B_10</th>\n",
       "      <td>-0.000980</td>\n",
       "      <td>0.019516</td>\n",
       "      <td>NaN</td>\n",
       "      <td>NaN</td>\n",
       "      <td>NaN</td>\n",
       "      <td>1.000000</td>\n",
       "      <td>NaN</td>\n",
       "      <td>0.165104</td>\n",
       "      <td>-0.161732</td>\n",
       "      <td>0.159031</td>\n",
       "      <td>-0.003511</td>\n",
       "      <td>0.152095</td>\n",
       "      <td>NaN</td>\n",
       "      <td>0.137826</td>\n",
       "      <td>NaN</td>\n",
       "      <td>NaN</td>\n",
       "      <td>-0.145944</td>\n",
       "      <td>-0.139580</td>\n",
       "    </tr>\n",
       "    <tr>\n",
       "      <th>B_14</th>\n",
       "      <td>NaN</td>\n",
       "      <td>NaN</td>\n",
       "      <td>NaN</td>\n",
       "      <td>NaN</td>\n",
       "      <td>NaN</td>\n",
       "      <td>NaN</td>\n",
       "      <td>NaN</td>\n",
       "      <td>NaN</td>\n",
       "      <td>NaN</td>\n",
       "      <td>NaN</td>\n",
       "      <td>NaN</td>\n",
       "      <td>NaN</td>\n",
       "      <td>NaN</td>\n",
       "      <td>NaN</td>\n",
       "      <td>NaN</td>\n",
       "      <td>NaN</td>\n",
       "      <td>NaN</td>\n",
       "      <td>NaN</td>\n",
       "    </tr>\n",
       "    <tr>\n",
       "      <th>B_15</th>\n",
       "      <td>0.013630</td>\n",
       "      <td>0.012736</td>\n",
       "      <td>NaN</td>\n",
       "      <td>NaN</td>\n",
       "      <td>NaN</td>\n",
       "      <td>0.165104</td>\n",
       "      <td>NaN</td>\n",
       "      <td>1.000000</td>\n",
       "      <td>-0.847403</td>\n",
       "      <td>0.782739</td>\n",
       "      <td>0.151280</td>\n",
       "      <td>0.783896</td>\n",
       "      <td>NaN</td>\n",
       "      <td>0.723860</td>\n",
       "      <td>NaN</td>\n",
       "      <td>NaN</td>\n",
       "      <td>-0.771684</td>\n",
       "      <td>-0.775775</td>\n",
       "    </tr>\n",
       "    <tr>\n",
       "      <th>B_16</th>\n",
       "      <td>-0.001952</td>\n",
       "      <td>-0.011543</td>\n",
       "      <td>NaN</td>\n",
       "      <td>NaN</td>\n",
       "      <td>NaN</td>\n",
       "      <td>-0.161732</td>\n",
       "      <td>NaN</td>\n",
       "      <td>-0.847403</td>\n",
       "      <td>1.000000</td>\n",
       "      <td>-0.790201</td>\n",
       "      <td>-0.083948</td>\n",
       "      <td>-0.766358</td>\n",
       "      <td>NaN</td>\n",
       "      <td>-0.703179</td>\n",
       "      <td>NaN</td>\n",
       "      <td>NaN</td>\n",
       "      <td>0.752218</td>\n",
       "      <td>0.756511</td>\n",
       "    </tr>\n",
       "    <tr>\n",
       "      <th>B_17</th>\n",
       "      <td>0.000808</td>\n",
       "      <td>0.020142</td>\n",
       "      <td>NaN</td>\n",
       "      <td>NaN</td>\n",
       "      <td>NaN</td>\n",
       "      <td>0.159031</td>\n",
       "      <td>NaN</td>\n",
       "      <td>0.782739</td>\n",
       "      <td>-0.790201</td>\n",
       "      <td>1.000000</td>\n",
       "      <td>-0.156789</td>\n",
       "      <td>0.697791</td>\n",
       "      <td>NaN</td>\n",
       "      <td>0.629818</td>\n",
       "      <td>NaN</td>\n",
       "      <td>NaN</td>\n",
       "      <td>-0.686848</td>\n",
       "      <td>-0.691447</td>\n",
       "    </tr>\n",
       "    <tr>\n",
       "      <th>B_18</th>\n",
       "      <td>0.000812</td>\n",
       "      <td>-0.017014</td>\n",
       "      <td>NaN</td>\n",
       "      <td>NaN</td>\n",
       "      <td>NaN</td>\n",
       "      <td>-0.003511</td>\n",
       "      <td>NaN</td>\n",
       "      <td>0.151280</td>\n",
       "      <td>-0.083948</td>\n",
       "      <td>-0.156789</td>\n",
       "      <td>1.000000</td>\n",
       "      <td>0.184440</td>\n",
       "      <td>NaN</td>\n",
       "      <td>0.239104</td>\n",
       "      <td>NaN</td>\n",
       "      <td>NaN</td>\n",
       "      <td>-0.175946</td>\n",
       "      <td>-0.185414</td>\n",
       "    </tr>\n",
       "    <tr>\n",
       "      <th>B_19</th>\n",
       "      <td>0.003055</td>\n",
       "      <td>0.008782</td>\n",
       "      <td>NaN</td>\n",
       "      <td>NaN</td>\n",
       "      <td>NaN</td>\n",
       "      <td>0.152095</td>\n",
       "      <td>NaN</td>\n",
       "      <td>0.783896</td>\n",
       "      <td>-0.766358</td>\n",
       "      <td>0.697791</td>\n",
       "      <td>0.184440</td>\n",
       "      <td>1.000000</td>\n",
       "      <td>NaN</td>\n",
       "      <td>0.669880</td>\n",
       "      <td>NaN</td>\n",
       "      <td>NaN</td>\n",
       "      <td>-0.708031</td>\n",
       "      <td>-0.705477</td>\n",
       "    </tr>\n",
       "    <tr>\n",
       "      <th>B_20</th>\n",
       "      <td>NaN</td>\n",
       "      <td>NaN</td>\n",
       "      <td>NaN</td>\n",
       "      <td>NaN</td>\n",
       "      <td>NaN</td>\n",
       "      <td>NaN</td>\n",
       "      <td>NaN</td>\n",
       "      <td>NaN</td>\n",
       "      <td>NaN</td>\n",
       "      <td>NaN</td>\n",
       "      <td>NaN</td>\n",
       "      <td>NaN</td>\n",
       "      <td>NaN</td>\n",
       "      <td>NaN</td>\n",
       "      <td>NaN</td>\n",
       "      <td>NaN</td>\n",
       "      <td>NaN</td>\n",
       "      <td>NaN</td>\n",
       "    </tr>\n",
       "    <tr>\n",
       "      <th>B_21</th>\n",
       "      <td>0.007820</td>\n",
       "      <td>0.014026</td>\n",
       "      <td>NaN</td>\n",
       "      <td>NaN</td>\n",
       "      <td>NaN</td>\n",
       "      <td>0.137826</td>\n",
       "      <td>NaN</td>\n",
       "      <td>0.723860</td>\n",
       "      <td>-0.703179</td>\n",
       "      <td>0.629818</td>\n",
       "      <td>0.239104</td>\n",
       "      <td>0.669880</td>\n",
       "      <td>NaN</td>\n",
       "      <td>1.000000</td>\n",
       "      <td>NaN</td>\n",
       "      <td>NaN</td>\n",
       "      <td>-0.653437</td>\n",
       "      <td>-0.659865</td>\n",
       "    </tr>\n",
       "    <tr>\n",
       "      <th>B_22</th>\n",
       "      <td>NaN</td>\n",
       "      <td>NaN</td>\n",
       "      <td>NaN</td>\n",
       "      <td>NaN</td>\n",
       "      <td>NaN</td>\n",
       "      <td>NaN</td>\n",
       "      <td>NaN</td>\n",
       "      <td>NaN</td>\n",
       "      <td>NaN</td>\n",
       "      <td>NaN</td>\n",
       "      <td>NaN</td>\n",
       "      <td>NaN</td>\n",
       "      <td>NaN</td>\n",
       "      <td>NaN</td>\n",
       "      <td>NaN</td>\n",
       "      <td>NaN</td>\n",
       "      <td>NaN</td>\n",
       "      <td>NaN</td>\n",
       "    </tr>\n",
       "    <tr>\n",
       "      <th>B_23</th>\n",
       "      <td>NaN</td>\n",
       "      <td>NaN</td>\n",
       "      <td>NaN</td>\n",
       "      <td>NaN</td>\n",
       "      <td>NaN</td>\n",
       "      <td>NaN</td>\n",
       "      <td>NaN</td>\n",
       "      <td>NaN</td>\n",
       "      <td>NaN</td>\n",
       "      <td>NaN</td>\n",
       "      <td>NaN</td>\n",
       "      <td>NaN</td>\n",
       "      <td>NaN</td>\n",
       "      <td>NaN</td>\n",
       "      <td>NaN</td>\n",
       "      <td>NaN</td>\n",
       "      <td>NaN</td>\n",
       "      <td>NaN</td>\n",
       "    </tr>\n",
       "    <tr>\n",
       "      <th>B_24</th>\n",
       "      <td>-0.004435</td>\n",
       "      <td>-0.007804</td>\n",
       "      <td>NaN</td>\n",
       "      <td>NaN</td>\n",
       "      <td>NaN</td>\n",
       "      <td>-0.145944</td>\n",
       "      <td>NaN</td>\n",
       "      <td>-0.771684</td>\n",
       "      <td>0.752218</td>\n",
       "      <td>-0.686848</td>\n",
       "      <td>-0.175946</td>\n",
       "      <td>-0.708031</td>\n",
       "      <td>NaN</td>\n",
       "      <td>-0.653437</td>\n",
       "      <td>NaN</td>\n",
       "      <td>NaN</td>\n",
       "      <td>1.000000</td>\n",
       "      <td>0.694244</td>\n",
       "    </tr>\n",
       "    <tr>\n",
       "      <th>B_25</th>\n",
       "      <td>-0.016141</td>\n",
       "      <td>-0.011612</td>\n",
       "      <td>NaN</td>\n",
       "      <td>NaN</td>\n",
       "      <td>NaN</td>\n",
       "      <td>-0.139580</td>\n",
       "      <td>NaN</td>\n",
       "      <td>-0.775775</td>\n",
       "      <td>0.756511</td>\n",
       "      <td>-0.691447</td>\n",
       "      <td>-0.185414</td>\n",
       "      <td>-0.705477</td>\n",
       "      <td>NaN</td>\n",
       "      <td>-0.659865</td>\n",
       "      <td>NaN</td>\n",
       "      <td>NaN</td>\n",
       "      <td>0.694244</td>\n",
       "      <td>1.000000</td>\n",
       "    </tr>\n",
       "  </tbody>\n",
       "</table>\n",
       "</div>"
      ],
      "text/plain": [
       "           B_2       B_3  B_4  B_5  B_9      B_10  B_14      B_15      B_16  \\\n",
       "B_2   1.000000  0.011160  NaN  NaN  NaN -0.000980   NaN  0.013630 -0.001952   \n",
       "B_3   0.011160  1.000000  NaN  NaN  NaN  0.019516   NaN  0.012736 -0.011543   \n",
       "B_4        NaN       NaN  NaN  NaN  NaN       NaN   NaN       NaN       NaN   \n",
       "B_5        NaN       NaN  NaN  NaN  NaN       NaN   NaN       NaN       NaN   \n",
       "B_9        NaN       NaN  NaN  NaN  NaN       NaN   NaN       NaN       NaN   \n",
       "B_10 -0.000980  0.019516  NaN  NaN  NaN  1.000000   NaN  0.165104 -0.161732   \n",
       "B_14       NaN       NaN  NaN  NaN  NaN       NaN   NaN       NaN       NaN   \n",
       "B_15  0.013630  0.012736  NaN  NaN  NaN  0.165104   NaN  1.000000 -0.847403   \n",
       "B_16 -0.001952 -0.011543  NaN  NaN  NaN -0.161732   NaN -0.847403  1.000000   \n",
       "B_17  0.000808  0.020142  NaN  NaN  NaN  0.159031   NaN  0.782739 -0.790201   \n",
       "B_18  0.000812 -0.017014  NaN  NaN  NaN -0.003511   NaN  0.151280 -0.083948   \n",
       "B_19  0.003055  0.008782  NaN  NaN  NaN  0.152095   NaN  0.783896 -0.766358   \n",
       "B_20       NaN       NaN  NaN  NaN  NaN       NaN   NaN       NaN       NaN   \n",
       "B_21  0.007820  0.014026  NaN  NaN  NaN  0.137826   NaN  0.723860 -0.703179   \n",
       "B_22       NaN       NaN  NaN  NaN  NaN       NaN   NaN       NaN       NaN   \n",
       "B_23       NaN       NaN  NaN  NaN  NaN       NaN   NaN       NaN       NaN   \n",
       "B_24 -0.004435 -0.007804  NaN  NaN  NaN -0.145944   NaN -0.771684  0.752218   \n",
       "B_25 -0.016141 -0.011612  NaN  NaN  NaN -0.139580   NaN -0.775775  0.756511   \n",
       "\n",
       "          B_17      B_18      B_19  B_20      B_21  B_22  B_23      B_24  \\\n",
       "B_2   0.000808  0.000812  0.003055   NaN  0.007820   NaN   NaN -0.004435   \n",
       "B_3   0.020142 -0.017014  0.008782   NaN  0.014026   NaN   NaN -0.007804   \n",
       "B_4        NaN       NaN       NaN   NaN       NaN   NaN   NaN       NaN   \n",
       "B_5        NaN       NaN       NaN   NaN       NaN   NaN   NaN       NaN   \n",
       "B_9        NaN       NaN       NaN   NaN       NaN   NaN   NaN       NaN   \n",
       "B_10  0.159031 -0.003511  0.152095   NaN  0.137826   NaN   NaN -0.145944   \n",
       "B_14       NaN       NaN       NaN   NaN       NaN   NaN   NaN       NaN   \n",
       "B_15  0.782739  0.151280  0.783896   NaN  0.723860   NaN   NaN -0.771684   \n",
       "B_16 -0.790201 -0.083948 -0.766358   NaN -0.703179   NaN   NaN  0.752218   \n",
       "B_17  1.000000 -0.156789  0.697791   NaN  0.629818   NaN   NaN -0.686848   \n",
       "B_18 -0.156789  1.000000  0.184440   NaN  0.239104   NaN   NaN -0.175946   \n",
       "B_19  0.697791  0.184440  1.000000   NaN  0.669880   NaN   NaN -0.708031   \n",
       "B_20       NaN       NaN       NaN   NaN       NaN   NaN   NaN       NaN   \n",
       "B_21  0.629818  0.239104  0.669880   NaN  1.000000   NaN   NaN -0.653437   \n",
       "B_22       NaN       NaN       NaN   NaN       NaN   NaN   NaN       NaN   \n",
       "B_23       NaN       NaN       NaN   NaN       NaN   NaN   NaN       NaN   \n",
       "B_24 -0.686848 -0.175946 -0.708031   NaN -0.653437   NaN   NaN  1.000000   \n",
       "B_25 -0.691447 -0.185414 -0.705477   NaN -0.659865   NaN   NaN  0.694244   \n",
       "\n",
       "          B_25  \n",
       "B_2  -0.016141  \n",
       "B_3  -0.011612  \n",
       "B_4        NaN  \n",
       "B_5        NaN  \n",
       "B_9        NaN  \n",
       "B_10 -0.139580  \n",
       "B_14       NaN  \n",
       "B_15 -0.775775  \n",
       "B_16  0.756511  \n",
       "B_17 -0.691447  \n",
       "B_18 -0.185414  \n",
       "B_19 -0.705477  \n",
       "B_20       NaN  \n",
       "B_21 -0.659865  \n",
       "B_22       NaN  \n",
       "B_23       NaN  \n",
       "B_24  0.694244  \n",
       "B_25  1.000000  "
      ]
     },
     "execution_count": 4,
     "metadata": {},
     "output_type": "execute_result"
    }
   ],
   "source": [
    "df[sensor_columns].corr()"
   ]
  },
  {
   "cell_type": "code",
   "execution_count": 5,
   "metadata": {
    "execution": {
     "iopub.execute_input": "2023-11-04T06:42:02.336669Z",
     "iopub.status.busy": "2023-11-04T06:42:02.335841Z",
     "iopub.status.idle": "2023-11-04T06:42:03.296133Z",
     "shell.execute_reply": "2023-11-04T06:42:03.295057Z",
     "shell.execute_reply.started": "2023-11-04T06:42:02.336623Z"
    }
   },
   "outputs": [
    {
     "data": {
      "image/png": "[encoded data removed]",
      "text/plain": [
       "<Figure size 1000x600 with 2 Axes>"
      ]
     },
     "metadata": {},
     "output_type": "display_data"
    }
   ],
   "source": [
    "same_val_lst = ['B_4','B_5','B_9','B_14','B_20','B_22','B_23']\n",
    "df = df.drop(axis=1, columns=same_val_lst)\n",
    "import matplotlib.pyplot as plt\n",
    "import seaborn as sns\n",
    "\n",
    "plt.figure(figsize=(10,6))\n",
    "sns.heatmap(df[list(set(sensor_columns) - set(same_val_lst))].corr(), annot=True)\n",
    "plt.show()"
   ]
  },
  {
   "cell_type": "code",
   "execution_count": 6,
   "metadata": {
    "execution": {
     "iopub.execute_input": "2023-11-04T06:42:03.299427Z",
     "iopub.status.busy": "2023-11-04T06:42:03.298136Z",
     "iopub.status.idle": "2023-11-04T06:42:03.306950Z",
     "shell.execute_reply": "2023-11-04T06:42:03.305966Z",
     "shell.execute_reply.started": "2023-11-04T06:42:03.299387Z"
    }
   },
   "outputs": [
    {
     "data": {
      "text/plain": [
       "Index(['Period Code', 'Cycle ID', 'B_2', 'B_3', 'B_10', 'B_15', 'B_16', 'B_17',\n",
       "       'B_18', 'B_19', 'B_21', 'B_24', 'B_25', 'Good/Bad', 'timestamp'],\n",
       "      dtype='object')"
      ]
     },
     "execution_count": 6,
     "metadata": {},
     "output_type": "execute_result"
    }
   ],
   "source": [
    "df.columns"
   ]
  },
  {
   "cell_type": "code",
   "execution_count": 7,
   "metadata": {
    "execution": {
     "iopub.execute_input": "2023-11-04T06:42:03.309540Z",
     "iopub.status.busy": "2023-11-04T06:42:03.308779Z",
     "iopub.status.idle": "2023-11-04T06:42:03.438730Z",
     "shell.execute_reply": "2023-11-04T06:42:03.437534Z",
     "shell.execute_reply.started": "2023-11-04T06:42:03.309501Z"
    }
   },
   "outputs": [],
   "source": [
    "for col in df.columns[:-2]:\n",
    "    df[col] = df[col].fillna(df.groupby('Period Code')[col].transform('mean'))"
   ]
  },
  {
   "cell_type": "code",
   "execution_count": 8,
   "metadata": {
    "execution": {
     "iopub.execute_input": "2023-11-04T06:42:03.441592Z",
     "iopub.status.busy": "2023-11-04T06:42:03.440593Z",
     "iopub.status.idle": "2023-11-04T06:42:03.449881Z",
     "shell.execute_reply": "2023-11-04T06:42:03.448589Z",
     "shell.execute_reply.started": "2023-11-04T06:42:03.441547Z"
    }
   },
   "outputs": [
    {
     "data": {
      "text/plain": [
       "15581"
      ]
     },
     "execution_count": 8,
     "metadata": {},
     "output_type": "execute_result"
    }
   ],
   "source": [
    "len(df)"
   ]
  },
  {
   "cell_type": "code",
   "execution_count": 9,
   "metadata": {
    "execution": {
     "iopub.execute_input": "2023-11-04T06:42:03.452921Z",
     "iopub.status.busy": "2023-11-04T06:42:03.451995Z",
     "iopub.status.idle": "2023-11-04T06:42:03.464717Z",
     "shell.execute_reply": "2023-11-04T06:42:03.463462Z",
     "shell.execute_reply.started": "2023-11-04T06:42:03.452874Z"
    }
   },
   "outputs": [],
   "source": [
    "df = df.drop(['Period Code', 'Cycle ID', 'timestamp'], axis=1)\n",
    "df['Good/Bad'] = df['Good/Bad'].astype(int)"
   ]
  },
  {
   "cell_type": "code",
   "execution_count": 10,
   "metadata": {
    "execution": {
     "iopub.execute_input": "2023-11-04T06:42:03.467281Z",
     "iopub.status.busy": "2023-11-04T06:42:03.466680Z",
     "iopub.status.idle": "2023-11-04T06:42:03.485594Z",
     "shell.execute_reply": "2023-11-04T06:42:03.484357Z",
     "shell.execute_reply.started": "2023-11-04T06:42:03.467243Z"
    },
    "scrolled": true
   },
   "outputs": [
    {
     "name": "stdout",
     "output_type": "stream",
     "text": [
      "<class 'pandas.core.frame.DataFrame'>\n",
      "Int64Index: 15581 entries, 0 to 16503\n",
      "Data columns (total 12 columns):\n",
      " #   Column    Non-Null Count  Dtype  \n",
      "---  ------    --------------  -----  \n",
      " 0   B_2       15581 non-null  float64\n",
      " 1   B_3       15581 non-null  float64\n",
      " 2   B_10      15581 non-null  float64\n",
      " 3   B_15      15581 non-null  float64\n",
      " 4   B_16      15581 non-null  float64\n",
      " 5   B_17      15581 non-null  float64\n",
      " 6   B_18      15581 non-null  float64\n",
      " 7   B_19      15581 non-null  float64\n",
      " 8   B_21      15581 non-null  float64\n",
      " 9   B_24      15581 non-null  float64\n",
      " 10  B_25      15581 non-null  float64\n",
      " 11  Good/Bad  15581 non-null  int64  \n",
      "dtypes: float64(11), int64(1)\n",
      "memory usage: 1.5 MB\n"
     ]
    }
   ],
   "source": [
    "df.info()"
   ]
  },
  {
   "cell_type": "code",
   "execution_count": 11,
   "metadata": {},
   "outputs": [
    {
     "data": {
      "text/plain": [
       "['B_2',\n",
       " 'B_3',\n",
       " 'B_10',\n",
       " 'B_15',\n",
       " 'B_16',\n",
       " 'B_17',\n",
       " 'B_18',\n",
       " 'B_19',\n",
       " 'B_21',\n",
       " 'B_24',\n",
       " 'B_25',\n",
       " 'Good/Bad']"
      ]
     },
     "execution_count": 11,
     "metadata": {},
     "output_type": "execute_result"
    }
   ],
   "source": [
    "list(df.columns)"
   ]
  },
  {
   "cell_type": "code",
   "execution_count": 12,
   "metadata": {},
   "outputs": [
    {
     "data": {
      "text/html": [
       "<div>\n",
       "<style scoped>\n",
       "    .dataframe tbody tr th:only-of-type {\n",
       "        vertical-align: middle;\n",
       "    }\n",
       "\n",
       "    .dataframe tbody tr th {\n",
       "        vertical-align: top;\n",
       "    }\n",
       "\n",
       "    .dataframe thead th {\n",
       "        text-align: right;\n",
       "    }\n",
       "</style>\n",
       "<table border=\"1\" class=\"dataframe\">\n",
       "  <thead>\n",
       "    <tr style=\"text-align: right;\">\n",
       "      <th></th>\n",
       "      <th>B_2</th>\n",
       "      <th>B_3</th>\n",
       "      <th>B_10</th>\n",
       "      <th>B_15</th>\n",
       "      <th>B_16</th>\n",
       "      <th>B_17</th>\n",
       "      <th>B_18</th>\n",
       "      <th>B_19</th>\n",
       "      <th>B_21</th>\n",
       "      <th>B_24</th>\n",
       "      <th>B_25</th>\n",
       "    </tr>\n",
       "  </thead>\n",
       "  <tbody>\n",
       "    <tr>\n",
       "      <th>0</th>\n",
       "      <td>0.0025</td>\n",
       "      <td>0.0005</td>\n",
       "      <td>21.61</td>\n",
       "      <td>47.29</td>\n",
       "      <td>521.940000</td>\n",
       "      <td>2388.07</td>\n",
       "      <td>8131.50</td>\n",
       "      <td>8.4200</td>\n",
       "      <td>393.170213</td>\n",
       "      <td>39.04</td>\n",
       "      <td>23.3814</td>\n",
       "    </tr>\n",
       "    <tr>\n",
       "      <th>1</th>\n",
       "      <td>-0.0003</td>\n",
       "      <td>-0.0003</td>\n",
       "      <td>21.61</td>\n",
       "      <td>47.07</td>\n",
       "      <td>522.610000</td>\n",
       "      <td>2387.95</td>\n",
       "      <td>8148.76</td>\n",
       "      <td>8.4058</td>\n",
       "      <td>392.000000</td>\n",
       "      <td>39.17</td>\n",
       "      <td>23.3801</td>\n",
       "    </tr>\n",
       "    <tr>\n",
       "      <th>2</th>\n",
       "      <td>-0.0004</td>\n",
       "      <td>-0.0005</td>\n",
       "      <td>21.61</td>\n",
       "      <td>47.36</td>\n",
       "      <td>521.177467</td>\n",
       "      <td>2388.02</td>\n",
       "      <td>8139.39</td>\n",
       "      <td>8.4304</td>\n",
       "      <td>393.000000</td>\n",
       "      <td>38.91</td>\n",
       "      <td>23.3250</td>\n",
       "    </tr>\n",
       "    <tr>\n",
       "      <th>3</th>\n",
       "      <td>0.0021</td>\n",
       "      <td>0.0001</td>\n",
       "      <td>21.61</td>\n",
       "      <td>47.61</td>\n",
       "      <td>521.180000</td>\n",
       "      <td>2388.07</td>\n",
       "      <td>8138.06</td>\n",
       "      <td>8.4300</td>\n",
       "      <td>392.000000</td>\n",
       "      <td>38.81</td>\n",
       "      <td>23.4180</td>\n",
       "    </tr>\n",
       "    <tr>\n",
       "      <th>4</th>\n",
       "      <td>0.0018</td>\n",
       "      <td>0.0001</td>\n",
       "      <td>21.61</td>\n",
       "      <td>47.21</td>\n",
       "      <td>522.640000</td>\n",
       "      <td>2387.99</td>\n",
       "      <td>8144.86</td>\n",
       "      <td>8.4063</td>\n",
       "      <td>392.000000</td>\n",
       "      <td>39.09</td>\n",
       "      <td>23.2883</td>\n",
       "    </tr>\n",
       "  </tbody>\n",
       "</table>\n",
       "</div>"
      ],
      "text/plain": [
       "      B_2     B_3   B_10   B_15        B_16     B_17     B_18    B_19  \\\n",
       "0  0.0025  0.0005  21.61  47.29  521.940000  2388.07  8131.50  8.4200   \n",
       "1 -0.0003 -0.0003  21.61  47.07  522.610000  2387.95  8148.76  8.4058   \n",
       "2 -0.0004 -0.0005  21.61  47.36  521.177467  2388.02  8139.39  8.4304   \n",
       "3  0.0021  0.0001  21.61  47.61  521.180000  2388.07  8138.06  8.4300   \n",
       "4  0.0018  0.0001  21.61  47.21  522.640000  2387.99  8144.86  8.4063   \n",
       "\n",
       "         B_21   B_24     B_25  \n",
       "0  393.170213  39.04  23.3814  \n",
       "1  392.000000  39.17  23.3801  \n",
       "2  393.000000  38.91  23.3250  \n",
       "3  392.000000  38.81  23.4180  \n",
       "4  392.000000  39.09  23.2883  "
      ]
     },
     "execution_count": 12,
     "metadata": {},
     "output_type": "execute_result"
    }
   ],
   "source": [
    "cols_to_choose = list(df.columns[:-1])\n",
    "\n",
    "def pre_process_test_data(df, cols_to_choose):\n",
    "    to_remove_lst = ['Bad', 'I/O', 'Missing', 'no connection', 'No Data', 'no response', 'start', 'stop']\n",
    "    for each_col in cols_to_choose:\n",
    "        df.loc[df[each_col].isin(to_remove_lst), each_col] = np.nan\n",
    "        df[each_col] = df[each_col].astype(np.float64)\n",
    "        df[each_col] = df[each_col].fillna(df.groupby('Period Code')[each_col].transform('mean'))\n",
    "    return df\n",
    "\n",
    "test_df_final = pre_process_test_data(test_df, cols_to_choose)\n",
    "test_df_final = test_df_final[cols_to_choose]\n",
    "test_df_final.head()"
   ]
  },
  {
   "cell_type": "code",
   "execution_count": 13,
   "metadata": {},
   "outputs": [],
   "source": [
    "from sklearn.model_selection import train_test_split  \n",
    "\n",
    "x = df[df.columns[:-1]]\n",
    "y = df[df.columns[-1]]\n",
    "x_train, x_test, y_train, y_test = train_test_split(x, y, test_size=0.3, random_state=0)"
   ]
  },
  {
   "cell_type": "code",
   "execution_count": 14,
   "metadata": {},
   "outputs": [],
   "source": [
    "from sklearn.tree import DecisionTreeClassifier\n",
    "from sklearn.ensemble import RandomForestClassifier\n",
    "from sklearn.metrics import roc_auc_score\n",
    "\n",
    "dt_auc = []\n",
    "rf_auc = []\n",
    "\n",
    "for i in range(3, 11):\n",
    "    dt = DecisionTreeClassifier(max_depth=i)\n",
    "    rf = RandomForestClassifier(max_depth=i)\n",
    "    dt_model = dt.fit(x_train, y_train)\n",
    "    rf_model = rf.fit(x_train, y_train)\n",
    "    y_pred = dt_model.predict(x_test)\n",
    "    y_pred2 = rf_model.predict(x_test)\n",
    "\n",
    "    dt_auc.append(roc_auc_score(y_test, y_pred))\n",
    "    rf_auc.append(roc_auc_score(y_test, y_pred2))\n"
   ]
  },
  {
   "cell_type": "code",
   "execution_count": 15,
   "metadata": {},
   "outputs": [
    {
     "data": {
      "text/plain": [
       "[<matplotlib.lines.Line2D at 0x14a416750>]"
      ]
     },
     "execution_count": 15,
     "metadata": {},
     "output_type": "execute_result"
    },
    {
     "data": {
      "image/png": "[encoded data removed]",
      "text/plain": [
       "<Figure size 640x480 with 1 Axes>"
      ]
     },
     "metadata": {},
     "output_type": "display_data"
    }
   ],
   "source": [
    "import matplotlib.pyplot as plt\n",
    "plt.plot(dt_auc)\n",
    "plt.plot(rf_auc)"
   ]
  },
  {
   "cell_type": "code",
   "execution_count": 16,
   "metadata": {},
   "outputs": [
    {
     "data": {
      "text/plain": [
       "0.9018355753255801"
      ]
     },
     "execution_count": 16,
     "metadata": {},
     "output_type": "execute_result"
    }
   ],
   "source": [
    "max(rf_auc)"
   ]
  },
  {
   "cell_type": "code",
   "execution_count": 17,
   "metadata": {},
   "outputs": [],
   "source": [
    "import xgboost as xgb"
   ]
  },
  {
   "cell_type": "code",
   "execution_count": 18,
   "metadata": {},
   "outputs": [],
   "source": [
    "from hyperopt import STATUS_OK, Trials, fmin, hp, tpe\n",
    "\n",
    "space={'max_depth': hp.quniform(\"max_depth\", 3, 18, 1),\n",
    "        'gamma': hp.uniform ('gamma', 1,9),\n",
    "        'reg_alpha' : hp.quniform('reg_alpha', 40,180,1),\n",
    "        'reg_lambda' : hp.uniform('reg_lambda', 0,1),\n",
    "        'colsample_bytree' : hp.uniform('colsample_bytree', 0.5,1),\n",
    "        'min_child_weight' : hp.quniform('min_child_weight', 0, 10, 1),\n",
    "        'n_estimators': 180,\n",
    "        'seed': 0\n",
    "    }"
   ]
  },
  {
   "cell_type": "code",
   "execution_count": 19,
   "metadata": {},
   "outputs": [],
   "source": [
    "def objective(space):\n",
    "    clf=xgb.XGBClassifier(\n",
    "                    n_estimators =space['n_estimators'], max_depth = int(space['max_depth']), gamma = space['gamma'],\n",
    "                    reg_alpha = int(space['reg_alpha']),min_child_weight=int(space['min_child_weight']),\n",
    "                    colsample_bytree=int(space['colsample_bytree']))\n",
    "    \n",
    "    evaluation = [( x_train, y_train), ( x_test, y_test)]\n",
    "    \n",
    "    clf.fit(x_train, y_train,\n",
    "            eval_set=evaluation, eval_metric=\"auc\",\n",
    "            early_stopping_rounds=10,verbose=False)\n",
    "    \n",
    "\n",
    "    pred = clf.predict(x_test)\n",
    "    accuracy = roc_auc_score(y_test, (pred>0.5).astype(int))\n",
    "    return {'loss': -accuracy, 'status': STATUS_OK }"
   ]
  },
  {
   "cell_type": "code",
   "execution_count": 20,
   "metadata": {
    "scrolled": true
   },
   "outputs": [
    {
     "name": "stdout",
     "output_type": "stream",
     "text": [
      "100%|██████████████████| 100/100 [00:09<00:00, 10.55trial/s, best loss: -0.8919725958875967]\n"
     ]
    }
   ],
   "source": [
    "import warnings\n",
    "\n",
    "warnings.filterwarnings(\"ignore\")\n",
    "\n",
    "trials = Trials()\n",
    "\n",
    "best_hyperparams = fmin(fn = objective,\n",
    "                        space = space,\n",
    "                        algo = tpe.suggest,\n",
    "                        max_evals = 100,\n",
    "                        trials = trials)"
   ]
  },
  {
   "cell_type": "code",
   "execution_count": 21,
   "metadata": {},
   "outputs": [
    {
     "data": {
      "text/plain": [
       "{'colsample_bytree': 0.6295560686843565,\n",
       " 'gamma': 2.309408816229935,\n",
       " 'max_depth': 8.0,\n",
       " 'min_child_weight': 5.0,\n",
       " 'reg_alpha': 41.0,\n",
       " 'reg_lambda': 0.5390477776165232}"
      ]
     },
     "execution_count": 21,
     "metadata": {},
     "output_type": "execute_result"
    }
   ],
   "source": [
    "best_hyperparams"
   ]
  },
  {
   "cell_type": "code",
   "execution_count": 22,
   "metadata": {},
   "outputs": [
    {
     "data": {
      "text/plain": [
       "0.9002313450167033"
      ]
     },
     "execution_count": 22,
     "metadata": {},
     "output_type": "execute_result"
    }
   ],
   "source": [
    "xgb_model = xgb.XGBClassifier(colsample_bytree = 0.6615957423072196,\n",
    " gamma = 1.7558695555114365,\n",
    " max_depth = 14,\n",
    " min_child_weight = 5,\n",
    " reg_alpha = 40,\n",
    " reg_lambda = 0.6383809585467258)\n",
    "xgb_model.fit(x_train, y_train)\n",
    "y_pred_xgb = xgb_model.predict(x_test)\n",
    "\n",
    "roc_auc_score(y_test, (y_pred_xgb>0.5).astype(int))"
   ]
  },
  {
   "cell_type": "code",
   "execution_count": 23,
   "metadata": {},
   "outputs": [
    {
     "name": "stdout",
     "output_type": "stream",
     "text": [
      "0.8988263036604319\n"
     ]
    }
   ],
   "source": [
    "model_grid = RandomForestClassifier()\n",
    "model_grid.fit(x_train, y_train) \n",
    "y_pred_grid = model_grid.predict(x_test) \n",
    "print(roc_auc_score(y_test, y_pred_grid)) "
   ]
  },
  {
   "cell_type": "code",
   "execution_count": 24,
   "metadata": {},
   "outputs": [
    {
     "name": "stdout",
     "output_type": "stream",
     "text": [
      "0.80492434392697\n"
     ]
    }
   ],
   "source": [
    "from sklearn.neighbors import KNeighborsClassifier\n",
    "\n",
    "mod = KNeighborsClassifier(n_neighbors=2)\n",
    "mod.fit(x_train, y_train)\n",
    "y_pred_knn = mod.predict(x_test) \n",
    "print(roc_auc_score(y_test, y_pred_knn)) "
   ]
  },
  {
   "cell_type": "code",
   "execution_count": 25,
   "metadata": {},
   "outputs": [
    {
     "name": "stdout",
     "output_type": "stream",
     "text": [
      "Use /var/folders/6m/wg76ryq57fnb356nt5xwlbl80000gn/T/tmp77ugqyjc as temporary training directory\n",
      "Reading training dataset...\n"
     ]
    },
    {
     "name": "stderr",
     "output_type": "stream",
     "text": [
      "[WARNING 23-11-04 07:10:34.7634 MDT gradient_boosted_trees.cc:1830] \"goss_alpha\" set but \"sampling_method\" not equal to \"GOSS\".\n",
      "[WARNING 23-11-04 07:10:34.7640 MDT gradient_boosted_trees.cc:1841] \"goss_beta\" set but \"sampling_method\" not equal to \"GOSS\".\n",
      "[WARNING 23-11-04 07:10:34.7640 MDT gradient_boosted_trees.cc:1855] \"selective_gradient_boosting_ratio\" set but \"sampling_method\" not equal to \"SELGB\".\n"
     ]
    },
    {
     "name": "stdout",
     "output_type": "stream",
     "text": [
      "Training dataset read in 0:00:01.212712. Found 15581 examples.\n",
      "Training model...\n",
      "Model trained in 0:00:14.420977\n",
      "Compiling model...\n"
     ]
    },
    {
     "name": "stderr",
     "output_type": "stream",
     "text": [
      "[INFO 23-11-04 07:10:50.3916 MDT kernel.cc:1233] Loading model from path /var/folders/6m/wg76ryq57fnb356nt5xwlbl80000gn/T/tmp77ugqyjc/model/ with prefix 08b518f90ebb45f6\n",
      "[INFO 23-11-04 07:10:50.4017 MDT abstract_model.cc:1344] Engine \"GradientBoostedTreesQuickScorerExtended\" built\n",
      "[INFO 23-11-04 07:10:50.4017 MDT kernel.cc:1061] Use fast generic engine\n"
     ]
    },
    {
     "name": "stdout",
     "output_type": "stream",
     "text": [
      "Model compiled.\n",
      "16/16 [==============================] - 0s 3ms/step - loss: 0.0000e+00 - auc: 0.9980\n"
     ]
    },
    {
     "data": {
      "text/plain": [
       "[0.0, 0.9980462193489075]"
      ]
     },
     "execution_count": 25,
     "metadata": {},
     "output_type": "execute_result"
    }
   ],
   "source": [
    "import tensorflow_decision_forests as tfdf\n",
    "import tensorflow as tf\n",
    "\n",
    "tuner = tfdf.tuner.RandomSearch(num_trials=20)\n",
    "tuner.choice(\"min_examples\", [2, 5, 7, 10])\n",
    "tuner.choice(\"categorical_algorithm\", [\"CART\", \"RANDOM\"])\n",
    "\n",
    "# Some hyper-parameters are only valid for specific values of other\n",
    "# hyper-parameters. For example, the \"max_depth\" parameter is mostly useful when\n",
    "# \"growing_strategy=LOCAL\" while \"max_num_nodes\" is better suited when\n",
    "# \"growing_strategy=BEST_FIRST_GLOBAL\".\n",
    "\n",
    "local_search_space = tuner.choice(\"growing_strategy\", [\"LOCAL\"])\n",
    "local_search_space.choice(\"max_depth\", [3, 4, 5, 6, 8])\n",
    "\n",
    "# merge=True indicates that the parameter (here \"growing_strategy\") is already\n",
    "# defined, and that new values are added to it.\n",
    "global_search_space = tuner.choice(\"growing_strategy\", [\"BEST_FIRST_GLOBAL\"], merge=True)\n",
    "global_search_space.choice(\"max_num_nodes\", [16, 32, 64, 128, 256])\n",
    "\n",
    "tuner.choice(\"use_hessian_gain\", [True, False])\n",
    "tuner.choice(\"shrinkage\", [0.02, 0.05, 0.10, 0.15])\n",
    "tuner.choice(\"num_candidate_attributes_ratio\", [0.2, 0.5, 0.9, 1.0])\n",
    "\n",
    "\n",
    "train_ds = tfdf.keras.pd_dataframe_to_tf_dataset(df, label=\"Good/Bad\")\n",
    "model = tfdf.keras.GradientBoostedTreesModel(tuner=tuner)\n",
    "model.compile(metrics=['AUC'])\n",
    "model.fit(train_ds)\n",
    "model.evaluate(train_ds)"
   ]
  },
  {
   "cell_type": "code",
   "execution_count": null,
   "metadata": {},
   "outputs": [],
   "source": []
  }
 ],
 "metadata": {
  "kernelspec": {
   "display_name": "Python 3 (ipykernel)",
   "language": "python",
   "name": "python3"
  },
  "language_info": {
   "codemirror_mode": {
    "name": "ipython",
    "version": 3
   },
   "file_extension": ".py",
   "mimetype": "text/x-python",
   "name": "python",
   "nbconvert_exporter": "python",
   "pygments_lexer": "ipython3",
   "version": "3.11.4"
  }
 },
 "nbformat": 4,
 "nbformat_minor": 4
}
